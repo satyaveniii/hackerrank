{
  "nbformat": 4,
  "nbformat_minor": 0,
  "metadata": {
    "colab": {
      "provenance": [],
      "include_colab_link": true
    },
    "kernelspec": {
      "name": "python3",
      "display_name": "Python 3"
    },
    "language_info": {
      "name": "python"
    }
  },
  "cells": [
    {
      "cell_type": "markdown",
      "metadata": {
        "id": "view-in-github",
        "colab_type": "text"
      },
      "source": [
        "<a href=\"https://colab.research.google.com/github/satyaveniii/hackerrank/blob/main/Copy_of_spellcheck.ipynb\" target=\"_parent\"><img src=\"https://colab.research.google.com/assets/colab-badge.svg\" alt=\"Open In Colab\"/></a>"
      ]
    },
    {
      "cell_type": "code",
      "execution_count": null,
      "metadata": {
        "colab": {
          "base_uri": "https://localhost:8080/"
        },
        "id": "F23nK9bUum0T",
        "outputId": "e138d271-097b-453e-8d43-b843f6ca023b"
      },
      "outputs": [
        {
          "output_type": "stream",
          "name": "stdout",
          "text": [
            "Looking in indexes: https://pypi.org/simple, https://us-python.pkg.dev/colab-wheels/public/simple/\n",
            "Requirement already satisfied: cdifflib in /usr/local/lib/python3.10/dist-packages (1.2.6)\n"
          ]
        }
      ],
      "source": [
        "!pip install cdifflib"
      ]
    },
    {
      "cell_type": "code",
      "source": [
        "import difflib\n",
        "\n",
        "def sug_words(word, words):\n",
        "  matches = difflib.get_close_matches(word,words)\n",
        "  return matches\n",
        "\n",
        "word = \"accomadation\"\n",
        "\n",
        "words= [\"accommodation\", \"accommodate\", \"accompaniment\",\"accomplice\"]\n",
        "\n",
        "sug_words = sug_words(word, words)\n",
        "\n",
        "print(\"Misspelled word: \",word)\n",
        "print(\"Suggested words: \",sug_words)"
      ],
      "metadata": {
        "colab": {
          "base_uri": "https://localhost:8080/"
        },
        "id": "fOLPgCkXvSLZ",
        "outputId": "84b9f76f-065a-47e0-8823-b419b37b6136"
      },
      "execution_count": null,
      "outputs": [
        {
          "output_type": "stream",
          "name": "stdout",
          "text": [
            "Misspelled word:  accomadation\n",
            "Suggested words:  ['accommodation', 'accommodate']\n"
          ]
        }
      ]
    }
  ]
}